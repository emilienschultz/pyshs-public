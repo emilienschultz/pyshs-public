{
 "cells": [
  {
   "cell_type": "markdown",
   "metadata": {},
   "source": [
    "# Utiliser la bibliothèque Pandas pour traiter des données "
   ]
  },
  {
   "cell_type": "markdown",
   "metadata": {},
   "source": [
    "## Charger deux bibliothèques"
   ]
  },
  {
   "cell_type": "code",
   "execution_count": 14,
   "metadata": {},
   "outputs": [],
   "source": [
    "import pandas as pd\n",
    "import matplotlib.pyplot as plt"
   ]
  },
  {
   "cell_type": "markdown",
   "metadata": {},
   "source": [
    "## Charger les données"
   ]
  },
  {
   "cell_type": "code",
   "execution_count": 2,
   "metadata": {},
   "outputs": [],
   "source": [
    "departements = pd.read_excel(\"./base-cc-evol-struct-pop-2015-reduite-dpt.xls\")"
   ]
  },
  {
   "cell_type": "markdown",
   "metadata": {},
   "source": [
    "## Voir les données"
   ]
  },
  {
   "cell_type": "code",
   "execution_count": 3,
   "metadata": {},
   "outputs": [
    {
     "data": {
      "text/html": [
       "<div>\n",
       "<style scoped>\n",
       "    .dataframe tbody tr th:only-of-type {\n",
       "        vertical-align: middle;\n",
       "    }\n",
       "\n",
       "    .dataframe tbody tr th {\n",
       "        vertical-align: top;\n",
       "    }\n",
       "\n",
       "    .dataframe thead th {\n",
       "        text-align: right;\n",
       "    }\n",
       "</style>\n",
       "<table border=\"1\" class=\"dataframe\">\n",
       "  <thead>\n",
       "    <tr style=\"text-align: right;\">\n",
       "      <th></th>\n",
       "      <th>DEP</th>\n",
       "      <th>P15_POP</th>\n",
       "      <th>P15_POPF</th>\n",
       "      <th>P15_POP0014</th>\n",
       "      <th>P15_POP1529</th>\n",
       "      <th>P15_POP3044</th>\n",
       "      <th>P15_POP4559</th>\n",
       "      <th>P15_POP6074</th>\n",
       "      <th>P15_POP7589</th>\n",
       "      <th>P15_POP90P</th>\n",
       "      <th>P15_F0014</th>\n",
       "      <th>P15_F1529</th>\n",
       "      <th>P15_F3044</th>\n",
       "      <th>P15_F4559</th>\n",
       "      <th>P15_F6074</th>\n",
       "      <th>P15_F7589</th>\n",
       "      <th>P15_F90P</th>\n",
       "    </tr>\n",
       "  </thead>\n",
       "  <tbody>\n",
       "    <tr>\n",
       "      <th>0</th>\n",
       "      <td>01</td>\n",
       "      <td>631877.0</td>\n",
       "      <td>319925.910898</td>\n",
       "      <td>128088.557317</td>\n",
       "      <td>103379.274993</td>\n",
       "      <td>128524.872154</td>\n",
       "      <td>129786.359553</td>\n",
       "      <td>91993.823722</td>\n",
       "      <td>43767.230444</td>\n",
       "      <td>6336.881818</td>\n",
       "      <td>62574.264090</td>\n",
       "      <td>50393.346194</td>\n",
       "      <td>64634.175124</td>\n",
       "      <td>64989.278839</td>\n",
       "      <td>46984.946859</td>\n",
       "      <td>25826.480962</td>\n",
       "      <td>4523.418830</td>\n",
       "    </tr>\n",
       "    <tr>\n",
       "      <th>1</th>\n",
       "      <td>02</td>\n",
       "      <td>538659.0</td>\n",
       "      <td>276704.484742</td>\n",
       "      <td>104070.061042</td>\n",
       "      <td>89651.836841</td>\n",
       "      <td>98760.319282</td>\n",
       "      <td>109680.838306</td>\n",
       "      <td>87052.069358</td>\n",
       "      <td>44060.240028</td>\n",
       "      <td>5383.635142</td>\n",
       "      <td>50908.509538</td>\n",
       "      <td>44118.504625</td>\n",
       "      <td>49772.114244</td>\n",
       "      <td>55265.896271</td>\n",
       "      <td>45231.684238</td>\n",
       "      <td>27321.066152</td>\n",
       "      <td>4086.709674</td>\n",
       "    </tr>\n",
       "    <tr>\n",
       "      <th>2</th>\n",
       "      <td>03</td>\n",
       "      <td>341613.0</td>\n",
       "      <td>177943.942410</td>\n",
       "      <td>53207.600515</td>\n",
       "      <td>48616.912683</td>\n",
       "      <td>56496.240798</td>\n",
       "      <td>70858.122509</td>\n",
       "      <td>66939.676852</td>\n",
       "      <td>39782.144817</td>\n",
       "      <td>5712.301826</td>\n",
       "      <td>26215.277003</td>\n",
       "      <td>23372.394566</td>\n",
       "      <td>28661.414892</td>\n",
       "      <td>36109.240402</td>\n",
       "      <td>35192.612618</td>\n",
       "      <td>24190.149154</td>\n",
       "      <td>4202.853776</td>\n",
       "    </tr>\n",
       "    <tr>\n",
       "      <th>3</th>\n",
       "      <td>04</td>\n",
       "      <td>161799.0</td>\n",
       "      <td>83082.806499</td>\n",
       "      <td>26191.243902</td>\n",
       "      <td>22429.133019</td>\n",
       "      <td>26782.838998</td>\n",
       "      <td>34691.617961</td>\n",
       "      <td>32127.606269</td>\n",
       "      <td>17120.699413</td>\n",
       "      <td>2455.860437</td>\n",
       "      <td>12540.587855</td>\n",
       "      <td>10843.410210</td>\n",
       "      <td>13735.468750</td>\n",
       "      <td>17701.339458</td>\n",
       "      <td>16576.521427</td>\n",
       "      <td>9884.705116</td>\n",
       "      <td>1800.773684</td>\n",
       "    </tr>\n",
       "    <tr>\n",
       "      <th>4</th>\n",
       "      <td>05</td>\n",
       "      <td>140916.0</td>\n",
       "      <td>72026.777347</td>\n",
       "      <td>23970.235318</td>\n",
       "      <td>20254.533871</td>\n",
       "      <td>25475.669765</td>\n",
       "      <td>30153.500532</td>\n",
       "      <td>25428.411659</td>\n",
       "      <td>13498.728547</td>\n",
       "      <td>2134.920307</td>\n",
       "      <td>11795.403949</td>\n",
       "      <td>9683.496465</td>\n",
       "      <td>13012.496442</td>\n",
       "      <td>15106.679941</td>\n",
       "      <td>13052.795516</td>\n",
       "      <td>7836.087413</td>\n",
       "      <td>1539.817622</td>\n",
       "    </tr>\n",
       "  </tbody>\n",
       "</table>\n",
       "</div>"
      ],
      "text/plain": [
       "  DEP   P15_POP       P15_POPF    P15_POP0014    P15_POP1529    P15_POP3044  \\\n",
       "0  01  631877.0  319925.910898  128088.557317  103379.274993  128524.872154   \n",
       "1  02  538659.0  276704.484742  104070.061042   89651.836841   98760.319282   \n",
       "2  03  341613.0  177943.942410   53207.600515   48616.912683   56496.240798   \n",
       "3  04  161799.0   83082.806499   26191.243902   22429.133019   26782.838998   \n",
       "4  05  140916.0   72026.777347   23970.235318   20254.533871   25475.669765   \n",
       "\n",
       "     P15_POP4559   P15_POP6074   P15_POP7589   P15_POP90P     P15_F0014  \\\n",
       "0  129786.359553  91993.823722  43767.230444  6336.881818  62574.264090   \n",
       "1  109680.838306  87052.069358  44060.240028  5383.635142  50908.509538   \n",
       "2   70858.122509  66939.676852  39782.144817  5712.301826  26215.277003   \n",
       "3   34691.617961  32127.606269  17120.699413  2455.860437  12540.587855   \n",
       "4   30153.500532  25428.411659  13498.728547  2134.920307  11795.403949   \n",
       "\n",
       "      P15_F1529     P15_F3044     P15_F4559     P15_F6074     P15_F7589  \\\n",
       "0  50393.346194  64634.175124  64989.278839  46984.946859  25826.480962   \n",
       "1  44118.504625  49772.114244  55265.896271  45231.684238  27321.066152   \n",
       "2  23372.394566  28661.414892  36109.240402  35192.612618  24190.149154   \n",
       "3  10843.410210  13735.468750  17701.339458  16576.521427   9884.705116   \n",
       "4   9683.496465  13012.496442  15106.679941  13052.795516   7836.087413   \n",
       "\n",
       "      P15_F90P  \n",
       "0  4523.418830  \n",
       "1  4086.709674  \n",
       "2  4202.853776  \n",
       "3  1800.773684  \n",
       "4  1539.817622  "
      ]
     },
     "execution_count": 3,
     "metadata": {},
     "output_type": "execute_result"
    }
   ],
   "source": [
    "departements[0:5]"
   ]
  },
  {
   "cell_type": "markdown",
   "metadata": {},
   "source": [
    "## Faire des statistiques sur la population des départements"
   ]
  },
  {
   "cell_type": "markdown",
   "metadata": {},
   "source": [
    "La moyenne en nombre d'habitants"
   ]
  },
  {
   "cell_type": "code",
   "execution_count": 5,
   "metadata": {},
   "outputs": [
    {
     "data": {
      "text/plain": [
       "661902.8"
      ]
     },
     "execution_count": 5,
     "metadata": {},
     "output_type": "execute_result"
    }
   ],
   "source": [
    "departements[\"P15_POP\"].mean()"
   ]
  },
  {
   "cell_type": "markdown",
   "metadata": {},
   "source": [
    "Les 5 départements les plus peuplés"
   ]
  },
  {
   "cell_type": "code",
   "execution_count": 8,
   "metadata": {},
   "outputs": [
    {
     "data": {
      "text/plain": [
       "92    1601569.0\n",
       "69    1821995.0\n",
       "12    2016622.0\n",
       "75    2206488.0\n",
       "59    2605238.0\n",
       "Name: P15_POP, dtype: float64"
      ]
     },
     "execution_count": 8,
     "metadata": {},
     "output_type": "execute_result"
    }
   ],
   "source": [
    "departements.sort_values(\"P15_POP\")[-5:][\"P15_POP\"]"
   ]
  },
  {
   "cell_type": "markdown",
   "metadata": {},
   "source": [
    "## Visualiser les données"
   ]
  },
  {
   "cell_type": "code",
   "execution_count": 16,
   "metadata": {},
   "outputs": [
    {
     "data": {
      "text/plain": [
       "Text(0.5, 1.0, 'Histogramme de la population des départements français')"
      ]
     },
     "execution_count": 16,
     "metadata": {},
     "output_type": "execute_result"
    },
    {
     "data": {
      "image/png": "[encoded data removed]",
      "text/plain": [
       "<Figure size 432x288 with 1 Axes>"
      ]
     },
     "metadata": {
      "needs_background": "light"
     },
     "output_type": "display_data"
    }
   ],
   "source": [
    "departements[\"P15_POP\"].hist()\n",
    "plt.xlabel(\"Nombre d'habitants\")\n",
    "plt.ylabel(\"Nombre de départements\")\n",
    "plt.title(\"Histogramme de la population des départements français\")"
   ]
  }
 ],
 "metadata": {
  "kernelspec": {
   "display_name": "Python 3",
   "language": "python",
   "name": "python3"
  },
  "language_info": {
   "codemirror_mode": {
    "name": "ipython",
    "version": 3
   },
   "file_extension": ".py",
   "mimetype": "text/x-python",
   "name": "python",
   "nbconvert_exporter": "python",
   "pygments_lexer": "ipython3",
   "version": "3.5.6"
  }
 },
 "nbformat": 4,
 "nbformat_minor": 2
}
